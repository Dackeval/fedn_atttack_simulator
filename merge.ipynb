{
 "cells": [
  {
   "cell_type": "code",
   "execution_count": null,
   "metadata": {},
   "outputs": [
    {
     "name": "stdout",
     "output_type": "stream",
     "text": [
      "Merged files saved to /Users/sigvard/Desktop/merged_new.txt\n"
     ]
    }
   ],
   "source": [
    "import os\n",
    "\n",
    "def is_text_file(filepath):\n",
    "    \"\"\"Check if a file is a text-based file.\"\"\"\n",
    "    text_extensions = {'.py', '.sh', '.txt', '.md', '.yaml', '.yml', '.cfg', '.ini',\n",
    "                       '.csv', '.html', '.css', '.js', '.xml', '.rst'}\n",
    "    common_no_ext_files = {'Dockerfile', 'Makefile', 'entrypoint', 'split_data', 'get_data'}\n",
    "\n",
    "    return (any(filepath.endswith(ext) for ext in text_extensions) or\n",
    "            os.path.basename(filepath) in common_no_ext_files)\n",
    "\n",
    "def sanitize_content(content):\n",
    "    \"\"\"Remove non-printable characters to avoid encoding issues.\"\"\"\n",
    "    return ''.join(c for c in content if c.isprintable() or c in '\\n\\r\\t')\n",
    "\n",
    "def get_all_text_files(directory):\n",
    "    \"\"\"Recursively find all text-based files in the specified directory.\"\"\"\n",
    "    text_files = []\n",
    "    for root, _, files in os.walk(directory):\n",
    "        for file in files:\n",
    "            file_path = os.path.join(root, file)\n",
    "            if is_text_file(file_path):\n",
    "                text_files.append(file_path)\n",
    "    return text_files\n",
    "\n",
    "def merge_files(file_paths, output_file):\n",
    "    \"\"\"Merge all text files into a single output file.\"\"\"\n",
    "    with open(output_file, 'w', encoding='utf-8') as out_file:\n",
    "        for file_path in file_paths:\n",
    "            try:\n",
    "                with open(file_path, 'r', encoding='utf-8', errors='ignore') as f:\n",
    "                    content = sanitize_content(f.read())\n",
    "\n",
    "                out_file.write(\"\\n\" + \"=\" * 50 + \"\\n\")\n",
    "                out_file.write(f\"File: {file_path}\\n\")\n",
    "                out_file.write(f\"Location: {os.path.abspath(file_path)}\\n\")\n",
    "                out_file.write(\"=\" * 50 + \"\\n\")\n",
    "                out_file.write(content + '\\n')\n",
    "\n",
    "            except Exception as e:\n",
    "                print(f\"Skipping {file_path}: {e}\")\n",
    "\n",
    "    print(f\"Merged files saved to {output_file}\")\n",
    "\n",
    "if __name__ == \"__main__\":\n",
    "    BASE_DIR = os.path.expanduser(\"~/Desktop/fedn_attack_simulator/examples/iris-sklearn\")\n",
    "    OUTPUT_FILE = os.path.expanduser(\"~/Desktop/merged_new_sklearn.txt\")\n",
    "\n",
    "    if not os.path.exists(BASE_DIR):\n",
    "        print(f\"Error: The directory {BASE_DIR} does not exist.\")\n",
    "    else:\n",
    "        all_text_files = get_all_text_files(BASE_DIR)\n",
    "\n",
    "        if all_text_files:\n",
    "            merge_files(all_text_files, OUTPUT_FILE)\n",
    "        else:\n",
    "            print(\"No text files found in the specified directory.\")"
   ]
  },
  {
   "cell_type": "code",
   "execution_count": null,
   "metadata": {},
   "outputs": [],
   "source": []
  }
 ],
 "metadata": {
  "kernelspec": {
   "display_name": "fedn_env",
   "language": "python",
   "name": "python3"
  },
  "language_info": {
   "codemirror_mode": {
    "name": "ipython",
    "version": 3
   },
   "file_extension": ".py",
   "mimetype": "text/x-python",
   "name": "python",
   "nbconvert_exporter": "python",
   "pygments_lexer": "ipython3",
   "version": "3.12.7"
  }
 },
 "nbformat": 4,
 "nbformat_minor": 2
}
